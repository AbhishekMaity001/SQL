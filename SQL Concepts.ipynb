{
 "cells": [
  {
   "cell_type": "markdown",
   "metadata": {},
   "source": [
    "#### Creating tables\n",
    "    While creating tables we can create multiple Primary keys in a table which is known as Composite Primary keys!"
   ]
  },
  {
   "cell_type": "code",
   "execution_count": null,
   "metadata": {},
   "outputs": [],
   "source": [
    "CREATE TABLE PROGMR(\n",
    "NAME VARCHAR(8) NOT NULL,\n",
    "DOB DATE NOT NULL,\n",
    "DOJ DATE NOT NULL,\n",
    "SEX VARCHAR(1) NOT NULL,\n",
    "PROF1 VARCHAR(8) NOT NULL,\n",
    "PROF2 VARCHAR(8),\n",
    "SAL DECIMAL(4,0),\n",
    "CHECK (SAL > 0 OR SAL IS NULL),\n",
    "PRIMARY KEY (NAME, DOB, DOJ)\n",
    ");\n",
    "\n",
    "\n",
    "# ADDING CONSTRAINTS LIKE CHECK CONSTRAINT, \n",
    "CREATE TABLE SOFTWARE (\n",
    "NAME VARCHAR(8) NOT NULL,\n",
    "TITLE VARCHAR(20) NOT NULL,\n",
    "DEV_IN VARCHAR(8) NOT NULL,\n",
    "SCOST DECIMAL(5,0), \n",
    "DCOST DECIMAL(5,0),\n",
    "SOLD INTEGER,\n",
    "PRIMARY KEY (NAME, TITLE),\n",
    "CONSTRAINT CHK_SCOST CHECK (SCOST>0 OR SOLD>0)\n",
    ");\n",
    "\n",
    "CREATE TABLE STUDIES(\n",
    "NAME VARCHAR(8),\n",
    "SPLACE VARCHAR(9),\n",
    "COURSE VARCHAR(5),\n",
    "CCOST NUMERIC(5),\n",
    "PRIMARY KEY (NAME, COURSE),\n",
    "CONSTRAINT CHK_CCOST CHECK (CCOST>0)\n",
    ");"
   ]
  },
  {
   "cell_type": "code",
   "execution_count": null,
   "metadata": {},
   "outputs": [],
   "source": [
    "[ WITH [ RECURSIVE ] with_query [, ...] ]\n",
    "SELECT [ ALL | DISTINCT [ ON ( expression [, ...] ) ] ]\n",
    "    [ * | expression [ [ AS ] output_name ] [, ...] ]\n",
    "    [ FROM from_item [, ...] ]\n",
    "    [ WHERE condition ]\n",
    "    [ GROUP BY grouping_element [, ...] ]\n",
    "    [ HAVING condition ]\n",
    "    [ WINDOW window_name AS ( window_definition ) [, ...] ]\n",
    "    [ { UNION | INTERSECT | EXCEPT } [ ALL | DISTINCT ] select ]\n",
    "    [ ORDER BY expression [ ASC | DESC | USING operator ] [ NULLS { FIRST | LAST } ] [, ...] ]\n",
    "    [ LIMIT { count | ALL } ]\n",
    "    [ OFFSET start [ ROW | ROWS ] ]\n",
    "    [ FETCH { FIRST | NEXT } [ count ] { ROW | ROWS } ONLY ]\n",
    "    [ FOR { UPDATE | NO KEY UPDATE | SHARE | KEY SHARE } [ OF table_name [, ...] ] [ NOWAIT | SKIP LOCKED ] [...] ]\n"
   ]
  },
  {
   "cell_type": "code",
   "execution_count": null,
   "metadata": {},
   "outputs": [],
   "source": []
  },
  {
   "cell_type": "code",
   "execution_count": null,
   "metadata": {},
   "outputs": [],
   "source": []
  },
  {
   "cell_type": "code",
   "execution_count": null,
   "metadata": {},
   "outputs": [],
   "source": []
  }
 ],
 "metadata": {
  "kernelspec": {
   "display_name": "Python 3",
   "language": "python",
   "name": "python3"
  },
  "language_info": {
   "codemirror_mode": {
    "name": "ipython",
    "version": 3
   },
   "file_extension": ".py",
   "mimetype": "text/x-python",
   "name": "python",
   "nbconvert_exporter": "python",
   "pygments_lexer": "ipython3",
   "version": "3.7.11"
  }
 },
 "nbformat": 4,
 "nbformat_minor": 4
}
